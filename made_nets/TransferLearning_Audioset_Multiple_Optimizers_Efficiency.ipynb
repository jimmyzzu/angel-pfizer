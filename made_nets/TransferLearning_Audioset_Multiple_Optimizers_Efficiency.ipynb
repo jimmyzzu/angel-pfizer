{
 "cells": [
  {
   "cell_type": "markdown",
   "metadata": {},
   "source": [
    "# Build a CNN audio classifier using melspectograms from Audioset and ESC-50 data"
   ]
  },
  {
   "cell_type": "markdown",
   "metadata": {},
   "source": [
    "## Load required modules"
   ]
  },
  {
   "cell_type": "code",
   "execution_count": 1,
   "metadata": {},
   "outputs": [
    {
     "name": "stderr",
     "output_type": "stream",
     "text": [
      "Using TensorFlow backend.\n"
     ]
    }
   ],
   "source": [
    "%matplotlib inline\n",
    "from keras.applications.vgg16 import VGG16, preprocess_input\n",
    "from keras.preprocessing import image\n",
    "from keras.models import Sequential, Model\n",
    "from keras.layers import Dense, Dropout, Flatten, Input\n",
    "import numpy as np\n",
    "import json\n",
    "import os\n",
    "import shutil\n",
    "import random\n",
    "import itertools\n",
    "import matplotlib.pyplot as plt\n",
    "from keras import backend as K\n",
    "K.clear_session()"
   ]
  },
  {
   "cell_type": "code",
   "execution_count": 2,
   "metadata": {},
   "outputs": [
    {
     "name": "stdout",
     "output_type": "stream",
     "text": [
      "[name: \"/cpu:0\"\n",
      "device_type: \"CPU\"\n",
      "memory_limit: 268435456\n",
      "locality {\n",
      "}\n",
      "incarnation: 17070039307598391372\n",
      ", name: \"/gpu:0\"\n",
      "device_type: \"GPU\"\n",
      "memory_limit: 15559258932\n",
      "locality {\n",
      "  bus_id: 1\n",
      "}\n",
      "incarnation: 10869534684202922379\n",
      "physical_device_desc: \"device: 0, name: Quadro P5000, pci bus id: 0000:00:05.0\"\n",
      "]\n"
     ]
    }
   ],
   "source": [
    "from tensorflow.python.client import device_lib\n",
    "print device_lib.list_local_devices()"
   ]
  },
  {
   "cell_type": "markdown",
   "metadata": {},
   "source": [
    "## Utility functions"
   ]
  },
  {
   "cell_type": "code",
   "execution_count": 3,
   "metadata": {},
   "outputs": [],
   "source": [
    "def split_dataset(file_paths, label_dir, train_split):\n",
    "    # get new train and validation indices\n",
    "    n_files = len(file_paths)\n",
    "    n_train = int(train_split * n_files)\n",
    "    train_idx = random.sample(range(n_files), n_train)\n",
    "    val_idx = list(set(range(n_files)) - set(train_idx))\n",
    "    \n",
    "    # split files\n",
    "    train_set = [file_paths[idx] for idx in train_idx]\n",
    "    val_set = [file_paths[idx] for idx in val_idx]\n",
    "\n",
    "    return train_set, val_set"
   ]
  },
  {
   "cell_type": "code",
   "execution_count": 4,
   "metadata": {},
   "outputs": [],
   "source": [
    "# create and save train and validation splits into tmp directories\n",
    "def train_and_val_split(path_to_train_set, train_split, seed=23):\n",
    "    random.seed(seed)\n",
    "\n",
    "    train_labels = os.listdir(path_to_train_set)\n",
    "    print '{} classes observed'.format(len(train_labels))\n",
    "    \n",
    "    # split original files\n",
    "    train_dir = '/tmp/train'\n",
    "    val_dir = '/tmp/val'\n",
    "    n_train_files = 0\n",
    "    n_val_files = 0\n",
    "    for label_dir in train_labels:\n",
    "        # fill in dictionary\n",
    "        full_path_to_dir = os.path.join(path_to_train_set, label_dir)\n",
    "        files = os.listdir(full_path_to_dir) \n",
    "        file_paths = [os.path.join(path_to_train_set, label_dir, f) for f in files]\n",
    "        train_set, val_set = split_dataset(file_paths, label_dir, train_split)\n",
    "        \n",
    "        # copy files over to tmp directories\n",
    "        train_label_dir = os.path.join(train_dir, label_dir)\n",
    "        if os.path.exists(train_label_dir):\n",
    "            shutil.rmtree(train_label_dir)\n",
    "        os.makedirs(train_label_dir)\n",
    "            \n",
    "        val_label_dir = os.path.join(val_dir, label_dir)\n",
    "        if os.path.exists(val_label_dir):\n",
    "            shutil.rmtree(val_label_dir)\n",
    "        os.makedirs(val_label_dir)\n",
    "        \n",
    "        def tmp_train_path(f):\n",
    "            base_filename = os.path.basename(f)\n",
    "            return os.path.join(train_label_dir, base_filename)\n",
    "        def tmp_val_path(f):\n",
    "            base_filename = os.path.basename(f)\n",
    "            return os.path.join(val_label_dir, base_filename)\n",
    "        \n",
    "        map(lambda f: shutil.copyfile(f, tmp_train_path(f)), train_set)\n",
    "        map(lambda f: shutil.copyfile(f, tmp_val_path(f)), val_set)\n",
    "        \n",
    "        n_train_files += len(train_set)\n",
    "        n_val_files += len(val_set)\n",
    "                 \n",
    "    print 'Found {} files for train set'.format(n_train_files)\n",
    "    print 'Found {} files for validaiton set'.format(n_val_files)\n",
    "                 \n",
    "    return train_dir, val_dir"
   ]
  },
  {
   "cell_type": "code",
   "execution_count": 5,
   "metadata": {},
   "outputs": [],
   "source": [
    "def plot_confusion_matrix(cm, classes,\n",
    "                          normalize=False,\n",
    "                          title='Confusion matrix',\n",
    "                          cmap=plt.cm.Blues):\n",
    "    \"\"\"\n",
    "    This function prints and plots the confusion matrix.\n",
    "    Normalization can be applied by setting `normalize=True`.\n",
    "    \"\"\"\n",
    "    if normalize:\n",
    "        cm = cm.astype('float') / cm.sum(axis=1)[:, np.newaxis]\n",
    "        print(\"Normalized confusion matrix\")\n",
    "    else:\n",
    "        print('Confusion matrix, without normalization')\n",
    "\n",
    "#     print(cm)\n",
    "    plt.figure(figsize=(5,5))\n",
    "    plt.imshow(cm, interpolation='nearest', cmap=cmap)\n",
    "    plt.title(title)\n",
    "    plt.colorbar()\n",
    "    tick_marks = np.arange(len(classes))\n",
    "    plt.xticks(tick_marks, classes, rotation=90)\n",
    "    plt.yticks(tick_marks, classes)\n",
    "\n",
    "    fmt = '.2f' if normalize else 'd'\n",
    "    thresh = cm.max() / 2.\n",
    "    for i, j in itertools.product(range(cm.shape[0]), range(cm.shape[1])):\n",
    "        plt.text(j, i, format(cm[i, j], fmt),\n",
    "                 horizontalalignment=\"center\",\n",
    "                 color=\"white\" if cm[i, j] > thresh else \"black\")\n",
    "\n",
    "    plt.tight_layout()\n",
    "    plt.ylabel('True label')\n",
    "    plt.xlabel('Predicted label')\n",
    "    "
   ]
  },
  {
   "cell_type": "markdown",
   "metadata": {},
   "source": [
    "# Set parameter values"
   ]
  },
  {
   "cell_type": "code",
   "execution_count": 6,
   "metadata": {},
   "outputs": [],
   "source": [
    "data_source = 'melspectrograms'\n",
    "batch_size = 40\n",
    "epochs = 150\n",
    "\n",
    "# dimensions of our images.\n",
    "img_width, img_height = 224, 224\n",
    "\n",
    "input_tensor = Input(shape=(224,224,3))"
   ]
  },
  {
   "cell_type": "markdown",
   "metadata": {},
   "source": [
    "# Configure training and validation data generators"
   ]
  },
  {
   "cell_type": "code",
   "execution_count": 7,
   "metadata": {},
   "outputs": [],
   "source": [
    "training_data_dir = '../hackathon_dataset/{}/train'.format(data_source)"
   ]
  },
  {
   "cell_type": "code",
   "execution_count": 8,
   "metadata": {},
   "outputs": [
    {
     "name": "stdout",
     "output_type": "stream",
     "text": [
      "Found 3716 images belonging to 2 classes.\n"
     ]
    }
   ],
   "source": [
    "# training generator configuration\n",
    "training_datagen = image.ImageDataGenerator(\n",
    "    rescale=1./255)\n",
    "\n",
    "training_generator = training_datagen.flow_from_directory(\n",
    "    training_data_dir,\n",
    "    target_size=(img_height, img_width),\n",
    "    batch_size=batch_size)"
   ]
  },
  {
   "cell_type": "code",
   "execution_count": 9,
   "metadata": {},
   "outputs": [],
   "source": [
    "validation_data_dir = '../hackathon_dataset/{}/validation'.format(data_source)"
   ]
  },
  {
   "cell_type": "code",
   "execution_count": 10,
   "metadata": {},
   "outputs": [
    {
     "name": "stdout",
     "output_type": "stream",
     "text": [
      "Found 1219 images belonging to 2 classes.\n"
     ]
    }
   ],
   "source": [
    "# validation generator configuration\n",
    "validation_datagen = image.ImageDataGenerator(\n",
    "    rescale=1./255)\n",
    "\n",
    "validation_generator = validation_datagen.flow_from_directory(\n",
    "    validation_data_dir,\n",
    "    target_size=(img_height, img_width),\n",
    "    batch_size=batch_size)"
   ]
  },
  {
   "cell_type": "code",
   "execution_count": 11,
   "metadata": {},
   "outputs": [],
   "source": [
    "nb_training_samples = 3716\n",
    "nb_validation_samples = 1219\n",
    "n_classes = len(os.listdir(training_data_dir)) - 1\n",
    "class_labels = os.listdir(training_data_dir)[:-1]"
   ]
  },
  {
   "cell_type": "markdown",
   "metadata": {},
   "source": [
    "# Load base model"
   ]
  },
  {
   "cell_type": "code",
   "execution_count": 12,
   "metadata": {},
   "outputs": [
    {
     "name": "stdout",
     "output_type": "stream",
     "text": [
      "Model loaded\n",
      "_________________________________________________________________\n",
      "Layer (type)                 Output Shape              Param #   \n",
      "=================================================================\n",
      "input_1 (InputLayer)         (None, 224, 224, 3)       0         \n",
      "_________________________________________________________________\n",
      "block1_conv1 (Conv2D)        (None, 224, 224, 64)      1792      \n",
      "_________________________________________________________________\n",
      "block1_conv2 (Conv2D)        (None, 224, 224, 64)      36928     \n",
      "_________________________________________________________________\n",
      "block1_pool (MaxPooling2D)   (None, 112, 112, 64)      0         \n",
      "_________________________________________________________________\n",
      "block2_conv1 (Conv2D)        (None, 112, 112, 128)     73856     \n",
      "_________________________________________________________________\n",
      "block2_conv2 (Conv2D)        (None, 112, 112, 128)     147584    \n",
      "_________________________________________________________________\n",
      "block2_pool (MaxPooling2D)   (None, 56, 56, 128)       0         \n",
      "_________________________________________________________________\n",
      "block3_conv1 (Conv2D)        (None, 56, 56, 256)       295168    \n",
      "_________________________________________________________________\n",
      "block3_conv2 (Conv2D)        (None, 56, 56, 256)       590080    \n",
      "_________________________________________________________________\n",
      "block3_conv3 (Conv2D)        (None, 56, 56, 256)       590080    \n",
      "_________________________________________________________________\n",
      "block3_pool (MaxPooling2D)   (None, 28, 28, 256)       0         \n",
      "_________________________________________________________________\n",
      "block4_conv1 (Conv2D)        (None, 28, 28, 512)       1180160   \n",
      "_________________________________________________________________\n",
      "block4_conv2 (Conv2D)        (None, 28, 28, 512)       2359808   \n",
      "_________________________________________________________________\n",
      "block4_conv3 (Conv2D)        (None, 28, 28, 512)       2359808   \n",
      "_________________________________________________________________\n",
      "block4_pool (MaxPooling2D)   (None, 14, 14, 512)       0         \n",
      "_________________________________________________________________\n",
      "block5_conv1 (Conv2D)        (None, 14, 14, 512)       2359808   \n",
      "_________________________________________________________________\n",
      "block5_conv2 (Conv2D)        (None, 14, 14, 512)       2359808   \n",
      "_________________________________________________________________\n",
      "block5_conv3 (Conv2D)        (None, 14, 14, 512)       2359808   \n",
      "_________________________________________________________________\n",
      "block5_pool (MaxPooling2D)   (None, 7, 7, 512)         0         \n",
      "=================================================================\n",
      "Total params: 14,714,688\n",
      "Trainable params: 14,714,688\n",
      "Non-trainable params: 0\n",
      "_________________________________________________________________\n",
      "None\n"
     ]
    }
   ],
   "source": [
    "model_name = 'vgg16'\n",
    "pretrained_model = VGG16(weights='imagenet', include_top=False, input_tensor=input_tensor)\n",
    "print('Model loaded')\n",
    "print pretrained_model.summary()"
   ]
  },
  {
   "cell_type": "code",
   "execution_count": 13,
   "metadata": {},
   "outputs": [
    {
     "name": "stdout",
     "output_type": "stream",
     "text": [
      "vgg16 contain 19 layers\n"
     ]
    }
   ],
   "source": [
    "print 'vgg16 contain {} layers'.format(len(pretrained_model.layers))"
   ]
  },
  {
   "cell_type": "code",
   "execution_count": 14,
   "metadata": {},
   "outputs": [],
   "source": [
    "#num_layers_to_freeze = len(pretrained_model.layers) - 2"
   ]
  },
  {
   "cell_type": "code",
   "execution_count": 30,
   "metadata": {},
   "outputs": [],
   "source": [
    "num_layers_to_freeze = len(pretrained_model.layers) - 6"
   ]
  },
  {
   "cell_type": "markdown",
   "metadata": {},
   "source": [
    "# Build top model"
   ]
  },
  {
   "cell_type": "code",
   "execution_count": 31,
   "metadata": {},
   "outputs": [
    {
     "name": "stdout",
     "output_type": "stream",
     "text": [
      "_________________________________________________________________\n",
      "Layer (type)                 Output Shape              Param #   \n",
      "=================================================================\n",
      "flatten_2 (Flatten)          (None, 25088)             0         \n",
      "_________________________________________________________________\n",
      "dense_3 (Dense)              (None, 128)               3211392   \n",
      "_________________________________________________________________\n",
      "dropout_2 (Dropout)          (None, 128)               0         \n",
      "_________________________________________________________________\n",
      "dense_4 (Dense)              (None, 2)                 258       \n",
      "=================================================================\n",
      "Total params: 3,211,650\n",
      "Trainable params: 3,211,650\n",
      "Non-trainable params: 0\n",
      "_________________________________________________________________\n"
     ]
    }
   ],
   "source": [
    "# build a classifier model to put on top of the convolutional model\n",
    "top_model = Sequential()\n",
    "top_model.add(Flatten(input_shape=pretrained_model.output_shape[1:]))\n",
    "top_model.add(Dense(128, activation='relu'))\n",
    "top_model.add(Dropout(0.6))\n",
    "top_model.add(Dense(n_classes, activation='softmax'))\n",
    "top_model.summary()"
   ]
  },
  {
   "cell_type": "markdown",
   "metadata": {},
   "source": [
    "# Combine base model with top model"
   ]
  },
  {
   "cell_type": "code",
   "execution_count": 32,
   "metadata": {},
   "outputs": [
    {
     "name": "stdout",
     "output_type": "stream",
     "text": [
      "_________________________________________________________________\n",
      "Layer (type)                 Output Shape              Param #   \n",
      "=================================================================\n",
      "input_1 (InputLayer)         (None, 224, 224, 3)       0         \n",
      "_________________________________________________________________\n",
      "block1_conv1 (Conv2D)        (None, 224, 224, 64)      1792      \n",
      "_________________________________________________________________\n",
      "block1_conv2 (Conv2D)        (None, 224, 224, 64)      36928     \n",
      "_________________________________________________________________\n",
      "block1_pool (MaxPooling2D)   (None, 112, 112, 64)      0         \n",
      "_________________________________________________________________\n",
      "block2_conv1 (Conv2D)        (None, 112, 112, 128)     73856     \n",
      "_________________________________________________________________\n",
      "block2_conv2 (Conv2D)        (None, 112, 112, 128)     147584    \n",
      "_________________________________________________________________\n",
      "block2_pool (MaxPooling2D)   (None, 56, 56, 128)       0         \n",
      "_________________________________________________________________\n",
      "block3_conv1 (Conv2D)        (None, 56, 56, 256)       295168    \n",
      "_________________________________________________________________\n",
      "block3_conv2 (Conv2D)        (None, 56, 56, 256)       590080    \n",
      "_________________________________________________________________\n",
      "block3_conv3 (Conv2D)        (None, 56, 56, 256)       590080    \n",
      "_________________________________________________________________\n",
      "block3_pool (MaxPooling2D)   (None, 28, 28, 256)       0         \n",
      "_________________________________________________________________\n",
      "block4_conv1 (Conv2D)        (None, 28, 28, 512)       1180160   \n",
      "_________________________________________________________________\n",
      "block4_conv2 (Conv2D)        (None, 28, 28, 512)       2359808   \n",
      "_________________________________________________________________\n",
      "block4_conv3 (Conv2D)        (None, 28, 28, 512)       2359808   \n",
      "_________________________________________________________________\n",
      "block4_pool (MaxPooling2D)   (None, 14, 14, 512)       0         \n",
      "_________________________________________________________________\n",
      "block5_conv1 (Conv2D)        (None, 14, 14, 512)       2359808   \n",
      "_________________________________________________________________\n",
      "block5_conv2 (Conv2D)        (None, 14, 14, 512)       2359808   \n",
      "_________________________________________________________________\n",
      "block5_conv3 (Conv2D)        (None, 14, 14, 512)       2359808   \n",
      "_________________________________________________________________\n",
      "block5_pool (MaxPooling2D)   (None, 7, 7, 512)         0         \n",
      "_________________________________________________________________\n",
      "sequential_2 (Sequential)    (None, 2)                 3211650   \n",
      "=================================================================\n",
      "Total params: 17,926,338\n",
      "Trainable params: 5,571,458\n",
      "Non-trainable params: 12,354,880\n",
      "_________________________________________________________________\n"
     ]
    }
   ],
   "source": [
    "# top_model.load_weights('bootlneck_fc_model.h5')\n",
    "model = Model(inputs=pretrained_model.input, outputs=top_model(pretrained_model.output))\n",
    "model.summary()"
   ]
  },
  {
   "cell_type": "markdown",
   "metadata": {},
   "source": [
    "# Configure model training"
   ]
  },
  {
   "cell_type": "code",
   "execution_count": 33,
   "metadata": {},
   "outputs": [],
   "source": [
    "if not os.path.exists('models/json_models'):\n",
    "    os.makedirs('models/json_models')"
   ]
  },
  {
   "cell_type": "code",
   "execution_count": 34,
   "metadata": {},
   "outputs": [],
   "source": [
    "from keras import metrics, optimizers\n",
    "\n",
    "def top_5_accuracy(y_true, y_pred):\n",
    "    return metrics.top_k_categorical_accuracy(y_true, y_pred, k=5)\n",
    "\n",
    "for layer in model.layers[:num_layers_to_freeze]:\n",
    "    layer.trainable = False\n",
    "\n",
    "# regualr SGD\n",
    "model.compile(optimizer=optimizers.SGD(lr=1e-4, momentum=0.9, decay=1e-6, nesterov=True), \n",
    "                      loss='categorical_crossentropy', \n",
    "                      metrics=['accuracy'])\n",
    "\n",
    "# serialize model to JSON\n",
    "model_json = model.to_json()\n",
    "model_filename = \"models/json_models/audioset_nesterov_{}_{}_{}_frozen_layers_dropout_60pct.json\"\\\n",
    "                    .format(model_name, data_source, num_layers_to_freeze)\n",
    "with open(model_filename, \"w\") as json_file:\n",
    "    json_file.write(model_json)"
   ]
  },
  {
   "cell_type": "markdown",
   "metadata": {},
   "source": [
    "# Fine-tune the model"
   ]
  },
  {
   "cell_type": "code",
   "execution_count": 35,
   "metadata": {},
   "outputs": [],
   "source": [
    "if not os.path.exists('models/weights'):\n",
    "    os.makedirs('models/weights')"
   ]
  },
  {
   "cell_type": "code",
   "execution_count": 36,
   "metadata": {
    "scrolled": true
   },
   "outputs": [
    {
     "name": "stdout",
     "output_type": "stream",
     "text": [
      "Epoch 1/10\n",
      "91/92 [============================>.] - ETA: 0s - loss: 5.5587 - acc: 0.5984Epoch 00000: val_acc improved from -inf to 0.61578, saving model to vgg16_melspec_weights_freeze_13_base_layers.best.hdf5\n",
      "92/92 [==============================] - 51s - loss: 5.5619 - acc: 0.5976 - val_loss: 6.1930 - val_acc: 0.6158\n",
      "Epoch 2/10\n",
      "91/92 [============================>.] - ETA: 0s - loss: 4.9664 - acc: 0.6118Epoch 00001: val_acc improved from 0.61578 to 0.61662, saving model to vgg16_melspec_weights_freeze_13_base_layers.best.hdf5\n",
      "92/92 [==============================] - 47s - loss: 4.9491 - acc: 0.6127 - val_loss: 6.1793 - val_acc: 0.6166\n",
      "Epoch 3/10\n",
      "91/92 [============================>.] - ETA: 0s - loss: 5.0400 - acc: 0.6132Epoch 00002: val_acc did not improve\n",
      "92/92 [==============================] - 45s - loss: 5.0403 - acc: 0.6125 - val_loss: 6.2476 - val_acc: 0.6124\n",
      "Epoch 4/10\n",
      "91/92 [============================>.] - ETA: 0s - loss: 4.9691 - acc: 0.6117Epoch 00003: val_acc did not improve\n",
      "92/92 [==============================] - 45s - loss: 4.9694 - acc: 0.6116 - val_loss: 6.2203 - val_acc: 0.6141\n",
      "Epoch 5/10\n",
      "91/92 [============================>.] - ETA: 0s - loss: 5.0531 - acc: 0.6068Epoch 00004: val_acc did not improve\n",
      "92/92 [==============================] - 43s - loss: 5.0605 - acc: 0.6070 - val_loss: 6.2887 - val_acc: 0.6098\n",
      "Epoch 6/10\n",
      "91/92 [============================>.] - ETA: 0s - loss: 4.8807 - acc: 0.6164Epoch 00005: val_acc improved from 0.61662 to 0.63104, saving model to vgg16_melspec_weights_freeze_13_base_layers.best.hdf5\n",
      "92/92 [==============================] - 43s - loss: 4.8815 - acc: 0.6168 - val_loss: 5.9469 - val_acc: 0.6310\n",
      "Epoch 7/10\n",
      "91/92 [============================>.] - ETA: 0s - loss: 5.1179 - acc: 0.6127Epoch 00006: val_acc did not improve\n",
      "92/92 [==============================] - 43s - loss: 5.1117 - acc: 0.6134 - val_loss: 6.3297 - val_acc: 0.6073\n",
      "Epoch 8/10\n",
      "91/92 [============================>.] - ETA: 0s - loss: 5.0306 - acc: 0.6142Epoch 00007: val_acc did not improve\n",
      "92/92 [==============================] - 43s - loss: 5.0380 - acc: 0.6143 - val_loss: 6.1930 - val_acc: 0.6158\n",
      "Epoch 9/10\n",
      "91/92 [============================>.] - ETA: 0s - loss: 5.1183 - acc: 0.6099Epoch 00008: val_acc did not improve\n",
      "92/92 [==============================] - 44s - loss: 5.1127 - acc: 0.6101 - val_loss: 6.2066 - val_acc: 0.6149\n",
      "Epoch 10/10\n",
      "91/92 [============================>.] - ETA: 0s - loss: 5.0894 - acc: 0.6143Epoch 00009: val_acc did not improve\n",
      "92/92 [==============================] - 44s - loss: 5.0794 - acc: 0.6144 - val_loss: 6.0562 - val_acc: 0.6243\n"
     ]
    },
    {
     "data": {
      "text/plain": [
       "<keras.callbacks.History at 0x7f1aa829af90>"
      ]
     },
     "execution_count": 36,
     "metadata": {},
     "output_type": "execute_result"
    }
   ],
   "source": [
    "from keras.callbacks import ModelCheckpoint, TensorBoard, EarlyStopping\n",
    "from time import time\n",
    "\n",
    "# set up log files for tensorboard\n",
    "tensorboard = TensorBoard(log_dir=\"logs/vgg16_{}_layers_frozen\".format(num_layers_to_freeze))\n",
    "\n",
    "# configure early stopping\n",
    "early_stopping = EarlyStopping(monitor='val_loss', patience=15)\n",
    "\n",
    "# checkpoint\n",
    "filepath=\"vgg16_melspec_weights_freeze_{}_base_layers.best.hdf5\".format(num_layers_to_freeze)\n",
    "best_model_checkpoint = ModelCheckpoint(filepath, monitor='val_acc', verbose=1, save_best_only=True, mode='max')\n",
    "callbacks_list = [best_model_checkpoint, tensorboard, early_stopping]\n",
    "\n",
    "model.fit_generator(\n",
    "    training_generator,\n",
    "    steps_per_epoch=nb_training_samples/batch_size,\n",
    "    epochs=10,\n",
    "    validation_data=validation_generator,\n",
    "    validation_steps=nb_validation_samples/batch_size,\n",
    "    callbacks=callbacks_list)"
   ]
  },
  {
   "cell_type": "markdown",
   "metadata": {},
   "source": [
    "# Calculate and plot confusion matrix"
   ]
  },
  {
   "cell_type": "code",
   "execution_count": 22,
   "metadata": {},
   "outputs": [
    {
     "name": "stdout",
     "output_type": "stream",
     "text": [
      "Normalized confusion matrix\n"
     ]
    },
    {
     "data": {
      "image/png": "[encoded data removed]",
      "text/plain": [
       "<matplotlib.figure.Figure at 0x7f1ab259a250>"
      ]
     },
     "metadata": {},
     "output_type": "display_data"
    }
   ],
   "source": [
    "import os\n",
    "from sklearn.metrics import confusion_matrix\n",
    "\n",
    "y_true = []\n",
    "y_pred = []\n",
    "for label in class_labels:\n",
    "    file_list = os.listdir(validation_data_dir + '/' + label)\n",
    "    for file_name in file_list:\n",
    "        img_path = validation_data_dir + '/' + label + '/' + file_name\n",
    "        \n",
    "        img = image.load_img(img_path, target_size=(224, 224))\n",
    "        \n",
    "        x = image.img_to_array(img)\n",
    "        x = np.expand_dims(x, axis=0)* 1./255\n",
    "        \n",
    "        preds = model.predict(x)[0]\n",
    "        \n",
    "        y_true.append(label)\n",
    "        y_pred.append(class_labels[np.argmax(preds)])\n",
    "        \n",
    "cm = confusion_matrix(y_true, y_pred)\n",
    "plot_confusion_matrix(cm, sorted(class_labels), normalize=True)"
   ]
  },
  {
   "cell_type": "markdown",
   "metadata": {},
   "source": [
    "## ADAM"
   ]
  },
  {
   "cell_type": "code",
   "execution_count": 27,
   "metadata": {},
   "outputs": [
    {
     "name": "stdout",
     "output_type": "stream",
     "text": [
      "Epoch 1/10\n",
      "91/92 [============================>.] - ETA: 0s - loss: 7.0297 - acc: 0.5602Epoch 00000: val_acc improved from -inf to 0.61408, saving model to vgg16_melspec_weights_freeze_17_base_layers.best.hdf5\n",
      "92/92 [==============================] - 51s - loss: 6.9927 - acc: 0.5625 - val_loss: 6.2203 - val_acc: 0.6141\n",
      "Epoch 2/10\n",
      "91/92 [============================>.] - ETA: 0s - loss: 6.3180 - acc: 0.6075Epoch 00001: val_acc improved from 0.61408 to 0.61493, saving model to vgg16_melspec_weights_freeze_17_base_layers.best.hdf5\n",
      "92/92 [==============================] - 47s - loss: 6.3238 - acc: 0.6072 - val_loss: 6.2066 - val_acc: 0.6149\n",
      "Epoch 3/10\n",
      "91/92 [============================>.] - ETA: 0s - loss: 6.2545 - acc: 0.6119Epoch 00002: val_acc improved from 0.61493 to 0.61578, saving model to vgg16_melspec_weights_freeze_17_base_layers.best.hdf5\n",
      "92/92 [==============================] - 49s - loss: 6.2610 - acc: 0.6115 - val_loss: 6.1930 - val_acc: 0.6158\n",
      "Epoch 4/10\n",
      "91/92 [============================>.] - ETA: 0s - loss: 6.1598 - acc: 0.6172Epoch 00003: val_acc improved from 0.61578 to 0.62256, saving model to vgg16_melspec_weights_freeze_17_base_layers.best.hdf5\n",
      "92/92 [==============================] - 48s - loss: 6.1673 - acc: 0.6168 - val_loss: 6.0836 - val_acc: 0.6226\n",
      "Epoch 5/10\n",
      "91/92 [============================>.] - ETA: 0s - loss: 6.2757 - acc: 0.6104Epoch 00004: val_acc did not improve\n",
      "92/92 [==============================] - 46s - loss: 6.2754 - acc: 0.6103 - val_loss: 6.2613 - val_acc: 0.6115\n",
      "Epoch 6/10\n",
      "91/92 [============================>.] - ETA: 0s - loss: 6.1796 - acc: 0.6164Epoch 00005: val_acc did not improve\n",
      "92/92 [==============================] - 44s - loss: 6.1826 - acc: 0.6162 - val_loss: 6.2340 - val_acc: 0.6132\n",
      "Epoch 7/10\n",
      "91/92 [============================>.] - ETA: 0s - loss: 6.2487 - acc: 0.6113Epoch 00006: val_acc did not improve\n",
      "92/92 [==============================] - 44s - loss: 6.2465 - acc: 0.6114 - val_loss: 6.1109 - val_acc: 0.6209\n",
      "Epoch 8/10\n",
      "91/92 [============================>.] - ETA: 0s - loss: 6.2044 - acc: 0.6148Epoch 00007: val_acc did not improve\n",
      "92/92 [==============================] - 44s - loss: 6.2202 - acc: 0.6138 - val_loss: 6.3297 - val_acc: 0.6073\n",
      "Epoch 9/10\n",
      "91/92 [============================>.] - ETA: 0s - loss: 6.2741 - acc: 0.6102Epoch 00008: val_acc improved from 0.62256 to 0.62256, saving model to vgg16_melspec_weights_freeze_17_base_layers.best.hdf5\n",
      "92/92 [==============================] - 46s - loss: 6.2716 - acc: 0.6104 - val_loss: 6.0836 - val_acc: 0.6226\n",
      "Epoch 10/10\n",
      "91/92 [============================>.] - ETA: 0s - loss: 6.2545 - acc: 0.6112Epoch 00009: val_acc did not improve\n",
      "92/92 [==============================] - 46s - loss: 6.2391 - acc: 0.6122 - val_loss: 6.2476 - val_acc: 0.6124\n"
     ]
    },
    {
     "data": {
      "text/plain": [
       "<keras.callbacks.History at 0x7f1ab01b5f90>"
      ]
     },
     "execution_count": 27,
     "metadata": {},
     "output_type": "execute_result"
    }
   ],
   "source": [
    "#model.compile(optimizer=optimizers.SGD(lr=1e-4, momentum=0.9, decay=1e-6, nesterov=True), \n",
    "#                      loss='categorical_crossentropy', \n",
    "#                      metrics=['accuracy'])\n",
    "\n",
    "model.compile(optimizer=optimizers.Adagrad(lr=0.01, epsilon=1e-6), \n",
    "                      loss='categorical_crossentropy', \n",
    "                      metrics=['accuracy'])\n",
    "# serialize model to JSON\n",
    "model_json = model.to_json()\n",
    "model_filename = \"models/json_models/audioset_nesterov_{}_{}_{}_frozen_layers_dropout_60pct.json\"\\\n",
    "                    .format(model_name, data_source, num_layers_to_freeze)\n",
    "with open(model_filename, \"w\") as json_file:\n",
    "    json_file.write(model_json)\n",
    "    \n",
    "if not os.path.exists('models/weights'):\n",
    "    os.makedirs('models/weights')\n",
    "    \n",
    "from keras.callbacks import ModelCheckpoint, TensorBoard, EarlyStopping\n",
    "from time import time\n",
    "\n",
    "# set up log files for tensorboard\n",
    "tensorboard = TensorBoard(log_dir=\"logs/vgg16_{}_layers_frozen\".format(num_layers_to_freeze))\n",
    "\n",
    "# configure early stopping\n",
    "early_stopping = EarlyStopping(monitor='val_loss', patience=15)\n",
    "\n",
    "# checkpoint\n",
    "filepath=\"vgg16_melspec_weights_freeze_{}_base_layers.best.hdf5\".format(num_layers_to_freeze)\n",
    "best_model_checkpoint = ModelCheckpoint(filepath, monitor='val_acc', verbose=1, save_best_only=True, mode='max')\n",
    "callbacks_list = [best_model_checkpoint, tensorboard, early_stopping]\n",
    "\n",
    "model.fit_generator(\n",
    "    training_generator,\n",
    "    steps_per_epoch=nb_training_samples/batch_size,\n",
    "    epochs=10,\n",
    "    validation_data=validation_generator,\n",
    "    validation_steps=nb_validation_samples/batch_size,\n",
    "    callbacks=callbacks_list)"
   ]
  },
  {
   "cell_type": "code",
   "execution_count": 28,
   "metadata": {},
   "outputs": [
    {
     "name": "stdout",
     "output_type": "stream",
     "text": [
      "Normalized confusion matrix\n"
     ]
    },
    {
     "data": {
      "image/png": "[encoded data removed]",
      "text/plain": [
       "<matplotlib.figure.Figure at 0x7f1b187a1090>"
      ]
     },
     "metadata": {},
     "output_type": "display_data"
    }
   ],
   "source": [
    "import os\n",
    "from sklearn.metrics import confusion_matrix\n",
    "\n",
    "y_true = []\n",
    "y_pred = []\n",
    "for label in class_labels:\n",
    "    file_list = os.listdir(validation_data_dir + '/' + label)\n",
    "    for file_name in file_list:\n",
    "        img_path = validation_data_dir + '/' + label + '/' + file_name\n",
    "        \n",
    "        img = image.load_img(img_path, target_size=(224, 224))\n",
    "        \n",
    "        x = image.img_to_array(img)\n",
    "        x = np.expand_dims(x, axis=0)* 1./255\n",
    "        \n",
    "        preds = model.predict(x)[0]\n",
    "        \n",
    "        y_true.append(label)\n",
    "        y_pred.append(class_labels[np.argmax(preds)])\n",
    "        \n",
    "cm = confusion_matrix(y_true, y_pred)\n",
    "plot_confusion_matrix(cm, sorted(class_labels), normalize=True)"
   ]
  },
  {
   "cell_type": "code",
   "execution_count": 29,
   "metadata": {},
   "outputs": [
    {
     "name": "stdout",
     "output_type": "stream",
     "text": [
      "Epoch 1/10\n",
      "91/92 [============================>.] - ETA: 0s - loss: 6.2316 - acc: 0.6124Epoch 00000: val_acc improved from -inf to 0.60984, saving model to vgg16_melspec_weights_freeze_17_base_layers.best.hdf5\n",
      "92/92 [==============================] - 50s - loss: 6.2383 - acc: 0.6120 - val_loss: 6.2887 - val_acc: 0.6098\n",
      "Epoch 2/10\n",
      "91/92 [============================>.] - ETA: 0s - loss: 6.2294 - acc: 0.6136Epoch 00001: val_acc improved from 0.60984 to 0.62256, saving model to vgg16_melspec_weights_freeze_17_base_layers.best.hdf5\n",
      "92/92 [==============================] - 46s - loss: 6.2230 - acc: 0.6139 - val_loss: 6.0836 - val_acc: 0.6226\n",
      "Epoch 3/10\n",
      "91/92 [============================>.] - ETA: 0s - loss: 6.2535 - acc: 0.6110Epoch 00002: val_acc did not improve\n",
      "92/92 [==============================] - 44s - loss: 6.2643 - acc: 0.6104 - val_loss: 6.2613 - val_acc: 0.6115\n",
      "Epoch 4/10\n",
      "91/92 [============================>.] - ETA: 0s - loss: 6.2176 - acc: 0.6135Epoch 00003: val_acc did not improve\n",
      "92/92 [==============================] - 44s - loss: 6.2464 - acc: 0.6117 - val_loss: 6.1656 - val_acc: 0.6175\n",
      "Epoch 5/10\n",
      "91/92 [============================>.] - ETA: 0s - loss: 6.2619 - acc: 0.6107Epoch 00004: val_acc did not improve\n",
      "92/92 [==============================] - 46s - loss: 6.2770 - acc: 0.6098 - val_loss: 6.1519 - val_acc: 0.6183\n",
      "Epoch 6/10\n",
      "91/92 [============================>.] - ETA: 0s - loss: 6.1790 - acc: 0.6164Epoch 00005: val_acc did not improve\n",
      "92/92 [==============================] - 46s - loss: 6.1907 - acc: 0.6157 - val_loss: 6.1793 - val_acc: 0.6166\n",
      "Epoch 7/10\n",
      "91/92 [============================>.] - ETA: 0s - loss: 6.2605 - acc: 0.6114Epoch 00006: val_acc did not improve\n",
      "92/92 [==============================] - 44s - loss: 6.2581 - acc: 0.6115 - val_loss: 6.1930 - val_acc: 0.6158\n",
      "Epoch 8/10\n",
      "91/92 [============================>.] - ETA: 0s - loss: 6.1480 - acc: 0.6183Epoch 00007: val_acc did not improve\n",
      "92/92 [==============================] - 44s - loss: 6.1469 - acc: 0.6184 - val_loss: 6.1109 - val_acc: 0.6209\n",
      "Epoch 9/10\n",
      "91/92 [============================>.] - ETA: 0s - loss: 6.2731 - acc: 0.6103Epoch 00008: val_acc improved from 0.62256 to 0.62426, saving model to vgg16_melspec_weights_freeze_17_base_layers.best.hdf5\n",
      "92/92 [==============================] - 44s - loss: 6.2663 - acc: 0.6107 - val_loss: 6.0562 - val_acc: 0.6243\n",
      "Epoch 10/10\n",
      "91/92 [============================>.] - ETA: 0s - loss: 6.3107 - acc: 0.6085Epoch 00009: val_acc did not improve\n",
      "92/92 [==============================] - 44s - loss: 6.3297 - acc: 0.6073 - val_loss: 6.1656 - val_acc: 0.6175\n"
     ]
    },
    {
     "data": {
      "text/plain": [
       "<keras.callbacks.History at 0x7f1aa8386890>"
      ]
     },
     "execution_count": 29,
     "metadata": {},
     "output_type": "execute_result"
    }
   ],
   "source": [
    "from keras import metrics, optimizers\n",
    "\n",
    "def top_5_accuracy(y_true, y_pred):\n",
    "    return metrics.top_k_categorical_accuracy(y_true, y_pred, k=5)\n",
    "\n",
    "for layer in model.layers[:num_layers_to_freeze]:\n",
    "    layer.trainable = False\n",
    "\n",
    "# regualr SGD\n",
    "model.compile(optimizer=optimizers.SGD(lr=1e-5, momentum=0.5, decay=1e-8, nesterov=True), \n",
    "                      loss='categorical_crossentropy', \n",
    "                      metrics=['accuracy'])\n",
    "\n",
    "# serialize model to JSON\n",
    "model_json = model.to_json()\n",
    "model_filename = \"models/json_models/audioset_nesterov_{}_{}_{}_frozen_layers_dropout_60pct.json\"\\\n",
    "                    .format(model_name, data_source, num_layers_to_freeze)\n",
    "with open(model_filename, \"w\") as json_file:\n",
    "    json_file.write(model_json)\n",
    "    \n",
    "# serialize model to JSON\n",
    "model_json = model.to_json()\n",
    "model_filename = \"models/json_models/audioset_nesterov_{}_{}_{}_frozen_layers_dropout_60pct.json\"\\\n",
    "                    .format(model_name, data_source, num_layers_to_freeze)\n",
    "with open(model_filename, \"w\") as json_file:\n",
    "    json_file.write(model_json)\n",
    "    \n",
    "if not os.path.exists('models/weights'):\n",
    "    os.makedirs('models/weights')\n",
    "    \n",
    "from keras.callbacks import ModelCheckpoint, TensorBoard, EarlyStopping\n",
    "from time import time\n",
    "\n",
    "# set up log files for tensorboard\n",
    "tensorboard = TensorBoard(log_dir=\"logs/vgg16_{}_layers_frozen\".format(num_layers_to_freeze))\n",
    "\n",
    "# configure early stopping\n",
    "early_stopping = EarlyStopping(monitor='val_loss', patience=15)\n",
    "\n",
    "# checkpoint\n",
    "filepath=\"vgg16_melspec_weights_freeze_{}_base_layers.best.hdf5\".format(num_layers_to_freeze)\n",
    "best_model_checkpoint = ModelCheckpoint(filepath, monitor='val_acc', verbose=1, save_best_only=True, mode='max')\n",
    "callbacks_list = [best_model_checkpoint, tensorboard, early_stopping]\n",
    "\n",
    "model.fit_generator(\n",
    "    training_generator,\n",
    "    steps_per_epoch=nb_training_samples/batch_size,\n",
    "    epochs=10,\n",
    "    validation_data=validation_generator,\n",
    "    validation_steps=nb_validation_samples/batch_size,\n",
    "    callbacks=callbacks_list)"
   ]
  }
 ],
 "metadata": {
  "kernelspec": {
   "display_name": "Python 2",
   "language": "python",
   "name": "python2"
  },
  "language_info": {
   "codemirror_mode": {
    "name": "ipython",
    "version": 2
   },
   "file_extension": ".py",
   "mimetype": "text/x-python",
   "name": "python",
   "nbconvert_exporter": "python",
   "pygments_lexer": "ipython2",
   "version": "2.7.6"
  }
 },
 "nbformat": 4,
 "nbformat_minor": 2
}
