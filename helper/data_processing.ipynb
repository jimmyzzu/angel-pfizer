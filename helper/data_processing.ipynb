{
 "cells": [
  {
   "cell_type": "markdown",
   "metadata": {},
   "source": [
    "### Image Generator"
   ]
  },
  {
   "cell_type": "code",
   "execution_count": 1,
   "metadata": {},
   "outputs": [
    {
     "name": "stderr",
     "output_type": "stream",
     "text": [
      "Using TensorFlow backend.\n"
     ]
    }
   ],
   "source": [
    "from keras.preprocessing import image\n",
    "from keras.utils import multi_gpu_model\n",
    "from keras.layers import Input"
   ]
  },
  {
   "cell_type": "code",
   "execution_count": 1,
   "metadata": {},
   "outputs": [],
   "source": [
    "# training generator configuration\n",
    "def get_gen_no_transform(dataset, batch_size=40, epochs=200, img_dim = (224,224), input_shape=(224,224,3)):\n",
    "\n",
    "    # dimensions of our images.\n",
    "    img_width, img_height = img_dim\n",
    "\n",
    "    input_tensor = Input(shape=input_shape)\n",
    "    \n",
    "    training_data_dir = '../data/' + dataset + '/train/'\n",
    "    training_datagen = image.ImageDataGenerator(\n",
    "        rescale=1./255)\n",
    "\n",
    "    training_generator = training_datagen.flow_from_directory(\n",
    "        training_data_dir,\n",
    "        target_size=(img_height, img_width),\n",
    "        batch_size=batch_size)\n",
    "\n",
    "    # validation generator configuration\n",
    "    validation_data_dir = '../data/' + dataset + '/'\n",
    "\n",
    "    validation_datagen = image.ImageDataGenerator(\n",
    "        rescale=1./255)\n",
    "\n",
    "    validation_generator = validation_datagen.flow_from_directory(\n",
    "        validation_data_dir,\n",
    "        target_size=(img_height, img_width),\n",
    "        batch_size=batch_size)"
   ]
  },
  {
   "cell_type": "code",
   "execution_count": null,
   "metadata": {},
   "outputs": [],
   "source": []
  }
 ],
 "metadata": {
  "kernelspec": {
   "display_name": "test-kernel",
   "language": "python",
   "name": "test-kernel"
  },
  "language_info": {
   "codemirror_mode": {
    "name": "ipython",
    "version": 3
   },
   "file_extension": ".py",
   "mimetype": "text/x-python",
   "name": "python",
   "nbconvert_exporter": "python",
   "pygments_lexer": "ipython3",
   "version": "3.6.4"
  }
 },
 "nbformat": 4,
 "nbformat_minor": 2
}
